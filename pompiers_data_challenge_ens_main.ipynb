{
 "cells": [
  {
   "cell_type": "markdown",
   "metadata": {},
   "source": [
    "# Imports"
   ]
  },
  {
   "cell_type": "code",
   "execution_count": 2,
   "metadata": {
    "ExecuteTime": {
     "end_time": "2020-11-23T17:54:22.101616Z",
     "start_time": "2020-11-23T17:54:21.146443Z"
    }
   },
   "outputs": [],
   "source": [
    "import gc\n",
    "import json\n",
    "import xgboost\n",
    "import geopandas\n",
    "import numpy as np\n",
    "import pandas as pd\n",
    "import seaborn as sns\n",
    "import matplotlib.pyplot as plt\n",
    "\n",
    "from collections import defaultdict\n",
    "from tqdm.notebook import tqdm\n",
    "from time import time\n",
    "from matplotlib import pyplot\n",
    "from xgboost import plot_importance\n",
    "\n",
    "from sklearn.model_selection import train_test_split, KFold\n",
    "from sklearn.ensemble import GradientBoostingRegressor\n",
    "from sklearn.metrics import r2_score\n",
    "from sklearn.linear_model import LinearRegression\n",
    "\n",
    "from pompier_utils import convert_dates, parse_osrm, add_distance, add_distance_vol \n",
    "from pompier_utils import parse_GPS_tracks, make_vehicle_categories\n",
    "\n",
    "import warnings\n",
    "warnings.filterwarnings('ignore')\n",
    "\n",
    "pd.set_option('display.max_columns', 200)\n",
    "pd.set_option('display.max_rows', 200)\n",
    "\n",
    "%matplotlib inline"
   ]
  },
  {
   "cell_type": "markdown",
   "metadata": {},
   "source": [
    "# Read data"
   ]
  },
  {
   "cell_type": "code",
   "execution_count": 4,
   "metadata": {
    "ExecuteTime": {
     "end_time": "2020-11-23T17:54:26.352694Z",
     "start_time": "2020-11-23T17:54:22.10409Z"
    }
   },
   "outputs": [
    {
     "name": "stdout",
     "output_type": "stream",
     "text": [
      "Train shape (219337, 33) \n",
      "Test shape  (108033, 30)\n"
     ]
    }
   ],
   "source": [
    "BASE_PATH = \"./input/pompiers/\"\n",
    "\n",
    "X_train = pd.read_csv(BASE_PATH + 'x_train.csv')\n",
    "X_test  = pd.read_csv(BASE_PATH + 'x_test.csv')\n",
    "y_train = pd.read_csv(BASE_PATH + 'y_train.csv')\n",
    "\n",
    "X_train_add = pd.read_csv(BASE_PATH + 'x_train_additional_file.csv')\n",
    "X_test_add  = pd.read_csv(BASE_PATH + 'x_test_additional_file.csv')\n",
    "\n",
    "\n",
    "X_train = X_train.merge(y_train,     on='emergency vehicle selection')\n",
    "X_train = X_train.merge(X_train_add, on='emergency vehicle selection')\n",
    "X_test  = X_test .merge(X_test_add,  on='emergency vehicle selection')\n",
    "\n",
    "\n",
    "X_train = X_train.drop('status preceding selection', axis=1)\n",
    "X_test  = X_test .drop('status preceding selection', axis=1)\n",
    "\n",
    "print(f'Train shape {X_train.shape} \\nTest shape  {X_test.shape}')"
   ]
  },
  {
   "cell_type": "markdown",
   "metadata": {},
   "source": [
    "# Preprocessing"
   ]
  },
  {
   "cell_type": "code",
   "execution_count": 5,
   "metadata": {
    "ExecuteTime": {
     "end_time": "2020-11-23T17:54:51.902426Z",
     "start_time": "2020-11-23T17:54:26.355767Z"
    }
   },
   "outputs": [
    {
     "name": "stdout",
     "output_type": "stream",
     "text": [
      "– Convert dates\n",
      "– Add distance between departure and intervention\n"
     ]
    },
    {
     "data": {
      "application/vnd.jupyter.widget-view+json": {
       "model_id": "",
       "version_major": 2,
       "version_minor": 0
      },
      "text/plain": [
       "HBox(children=(FloatProgress(value=0.0, max=219335.0), HTML(value='')))"
      ]
     },
     "metadata": {},
     "output_type": "display_data"
    },
    {
     "data": {
      "application/vnd.jupyter.widget-view+json": {
       "model_id": "",
       "version_major": 2,
       "version_minor": 0
      },
      "text/plain": [
       "HBox(children=(FloatProgress(value=0.0, max=108033.0), HTML(value='')))"
      ]
     },
     "metadata": {},
     "output_type": "display_data"
    },
    {
     "name": "stdout",
     "output_type": "stream",
     "text": [
      "– Parse OSRM responses\n",
      "– Add distance between OSRM points\n"
     ]
    },
    {
     "data": {
      "application/vnd.jupyter.widget-view+json": {
       "model_id": "",
       "version_major": 2,
       "version_minor": 0
      },
      "text/plain": [
       "HBox(children=(FloatProgress(value=0.0, max=219335.0), HTML(value='')))"
      ]
     },
     "metadata": {},
     "output_type": "display_data"
    },
    {
     "data": {
      "application/vnd.jupyter.widget-view+json": {
       "model_id": "",
       "version_major": 2,
       "version_minor": 0
      },
      "text/plain": [
       "HBox(children=(FloatProgress(value=0.0, max=108033.0), HTML(value='')))"
      ]
     },
     "metadata": {},
     "output_type": "display_data"
    },
    {
     "name": "stdout",
     "output_type": "stream",
     "text": [
      "– Parse GPS tracks\n",
      "– Add vehicle category\n"
     ]
    }
   ],
   "source": [
    "print('– Convert dates')\n",
    "X_train = convert_dates(X_train)\n",
    "X_test = convert_dates(X_test)\n",
    "\n",
    "print('– Add distance between departure and intervention')\n",
    "X_train = add_distance(X_train)\n",
    "X_test = add_distance(X_test)\n",
    "\n",
    "print('– Parse OSRM responses')\n",
    "X_train = parse_osrm(X_train)\n",
    "X_test = parse_osrm(X_test)\n",
    "\n",
    "print('– Add distance between OSRM points')\n",
    "X_train = add_distance_vol(X_train)\n",
    "X_test = add_distance_vol(X_test)\n",
    "\n",
    "print('– Parse GPS tracks')\n",
    "X_train = parse_GPS_tracks(X_train)\n",
    "X_test = parse_GPS_tracks(X_test)\n",
    "\n",
    "print('– Add vehicle category')\n",
    "X_train, X_test = make_vehicle_categories(X_train, X_test)"
   ]
  },
  {
   "cell_type": "code",
   "execution_count": 6,
   "metadata": {
    "ExecuteTime": {
     "end_time": "2020-11-23T17:54:51.928688Z",
     "start_time": "2020-11-23T17:54:51.904687Z"
    }
   },
   "outputs": [
    {
     "data": {
      "text/html": [
       "<div>\n",
       "<style scoped>\n",
       "    .dataframe tbody tr th:only-of-type {\n",
       "        vertical-align: middle;\n",
       "    }\n",
       "\n",
       "    .dataframe tbody tr th {\n",
       "        vertical-align: top;\n",
       "    }\n",
       "\n",
       "    .dataframe thead th {\n",
       "        text-align: right;\n",
       "    }\n",
       "</style>\n",
       "<table border=\"1\" class=\"dataframe\">\n",
       "  <thead>\n",
       "    <tr style=\"text-align: right;\">\n",
       "      <th></th>\n",
       "      <th>emergency vehicle selection</th>\n",
       "      <th>intervention</th>\n",
       "      <th>alert reason category</th>\n",
       "      <th>alert reason</th>\n",
       "      <th>intervention on public roads</th>\n",
       "      <th>floor</th>\n",
       "      <th>location of the event</th>\n",
       "      <th>longitude intervention</th>\n",
       "      <th>latitude intervention</th>\n",
       "      <th>emergency vehicle</th>\n",
       "      <th>emergency vehicle type</th>\n",
       "      <th>rescue center</th>\n",
       "      <th>delta status preceding selection-selection</th>\n",
       "      <th>departed from its rescue center</th>\n",
       "      <th>longitude before departure</th>\n",
       "      <th>latitude before departure</th>\n",
       "      <th>delta position gps previous departure-departure</th>\n",
       "      <th>GPS tracks datetime departure-presentation</th>\n",
       "      <th>OSRM estimated distance</th>\n",
       "      <th>OSRM estimated duration</th>\n",
       "      <th>delta selection-departure</th>\n",
       "      <th>delta departure-presentation</th>\n",
       "      <th>delta selection-presentation</th>\n",
       "      <th>OSRM estimate from last observed GPS position</th>\n",
       "      <th>OSRM estimated distance from last observed GPS position</th>\n",
       "      <th>OSRM estimated duration from last observed GPS position</th>\n",
       "      <th>time elapsed between selection and last observed GPS position</th>\n",
       "      <th>updated OSRM estimated duration</th>\n",
       "      <th>month</th>\n",
       "      <th>weekday</th>\n",
       "      <th>hour</th>\n",
       "      <th>dayofyear</th>\n",
       "      <th>minuteofday</th>\n",
       "      <th>true hour</th>\n",
       "      <th>differentiel hour</th>\n",
       "      <th>global_distance</th>\n",
       "      <th>OSRM response parsed</th>\n",
       "      <th>OSRM geometry decoded</th>\n",
       "      <th>OSRM distance vol</th>\n",
       "      <th>GPS split</th>\n",
       "      <th>GPS lat-long</th>\n",
       "      <th>GPS long</th>\n",
       "      <th>GPS lat</th>\n",
       "      <th>emergency vehicle category</th>\n",
       "    </tr>\n",
       "  </thead>\n",
       "  <tbody>\n",
       "    <tr>\n",
       "      <th>0</th>\n",
       "      <td>5105452</td>\n",
       "      <td>13264186</td>\n",
       "      <td>3</td>\n",
       "      <td>2162</td>\n",
       "      <td>0</td>\n",
       "      <td>0</td>\n",
       "      <td>148.0</td>\n",
       "      <td>2.284796</td>\n",
       "      <td>48.879669</td>\n",
       "      <td>4511</td>\n",
       "      <td>VSAV BSPP</td>\n",
       "      <td>2447</td>\n",
       "      <td>2027</td>\n",
       "      <td>1</td>\n",
       "      <td>2.288053</td>\n",
       "      <td>48.884698</td>\n",
       "      <td>NaN</td>\n",
       "      <td>2018-07-08 19:04:43;2018-07-08 19:05:55;2018-0...</td>\n",
       "      <td>952.5</td>\n",
       "      <td>105.8</td>\n",
       "      <td>86</td>\n",
       "      <td>324</td>\n",
       "      <td>410</td>\n",
       "      <td>{\"code\":\"Ok\",\"routes\":[{\"geometry\":\"g|iiH_p}LM...</td>\n",
       "      <td>663.2</td>\n",
       "      <td>88.8</td>\n",
       "      <td>394.01</td>\n",
       "      <td>482.81</td>\n",
       "      <td>7</td>\n",
       "      <td>6</td>\n",
       "      <td>19</td>\n",
       "      <td>189</td>\n",
       "      <td>1140</td>\n",
       "      <td>19.0</td>\n",
       "      <td>False</td>\n",
       "      <td>665</td>\n",
       "      <td>{'code': 'Ok', 'routes': [{'geometry': '}yjiH}...</td>\n",
       "      <td>[(0.228767, 4.888495), (0.228894, 4.888575), (...</td>\n",
       "      <td>113</td>\n",
       "      <td>[2.289000,48.885113, 2.288861,48.884998, 2.288...</td>\n",
       "      <td>[[2.289, 48.885113], [2.288861, 48.884998], [2...</td>\n",
       "      <td>[48.885113, 48.884998, 48.883335, 48.878582, 4...</td>\n",
       "      <td>[2.289, 2.288861, 2.288, 2.284444, 2.28625]</td>\n",
       "      <td>moyens_sante</td>\n",
       "    </tr>\n",
       "  </tbody>\n",
       "</table>\n",
       "</div>"
      ],
      "text/plain": [
       "   emergency vehicle selection  intervention  alert reason category  \\\n",
       "0                      5105452      13264186                      3   \n",
       "\n",
       "   alert reason  intervention on public roads  floor  location of the event  \\\n",
       "0          2162                             0      0                  148.0   \n",
       "\n",
       "   longitude intervention  latitude intervention  emergency vehicle  \\\n",
       "0                2.284796              48.879669               4511   \n",
       "\n",
       "  emergency vehicle type  rescue center  \\\n",
       "0              VSAV BSPP           2447   \n",
       "\n",
       "   delta status preceding selection-selection  \\\n",
       "0                                        2027   \n",
       "\n",
       "   departed from its rescue center  longitude before departure  \\\n",
       "0                                1                    2.288053   \n",
       "\n",
       "   latitude before departure  delta position gps previous departure-departure  \\\n",
       "0                  48.884698                                              NaN   \n",
       "\n",
       "          GPS tracks datetime departure-presentation  OSRM estimated distance  \\\n",
       "0  2018-07-08 19:04:43;2018-07-08 19:05:55;2018-0...                    952.5   \n",
       "\n",
       "   OSRM estimated duration  delta selection-departure  \\\n",
       "0                    105.8                         86   \n",
       "\n",
       "   delta departure-presentation  delta selection-presentation  \\\n",
       "0                           324                           410   \n",
       "\n",
       "       OSRM estimate from last observed GPS position  \\\n",
       "0  {\"code\":\"Ok\",\"routes\":[{\"geometry\":\"g|iiH_p}LM...   \n",
       "\n",
       "   OSRM estimated distance from last observed GPS position  \\\n",
       "0                                              663.2         \n",
       "\n",
       "   OSRM estimated duration from last observed GPS position  \\\n",
       "0                                               88.8         \n",
       "\n",
       "   time elapsed between selection and last observed GPS position  \\\n",
       "0                                             394.01               \n",
       "\n",
       "   updated OSRM estimated duration  month  weekday  hour  dayofyear  \\\n",
       "0                           482.81      7        6    19        189   \n",
       "\n",
       "   minuteofday  true hour  differentiel hour  global_distance  \\\n",
       "0         1140       19.0              False              665   \n",
       "\n",
       "                                OSRM response parsed  \\\n",
       "0  {'code': 'Ok', 'routes': [{'geometry': '}yjiH}...   \n",
       "\n",
       "                               OSRM geometry decoded  OSRM distance vol  \\\n",
       "0  [(0.228767, 4.888495), (0.228894, 4.888575), (...                113   \n",
       "\n",
       "                                           GPS split  \\\n",
       "0  [2.289000,48.885113, 2.288861,48.884998, 2.288...   \n",
       "\n",
       "                                        GPS lat-long  \\\n",
       "0  [[2.289, 48.885113], [2.288861, 48.884998], [2...   \n",
       "\n",
       "                                            GPS long  \\\n",
       "0  [48.885113, 48.884998, 48.883335, 48.878582, 4...   \n",
       "\n",
       "                                       GPS lat emergency vehicle category  \n",
       "0  [2.289, 2.288861, 2.288, 2.284444, 2.28625]               moyens_sante  "
      ]
     },
     "execution_count": 6,
     "metadata": {},
     "output_type": "execute_result"
    }
   ],
   "source": [
    "X_train.head(1)"
   ]
  },
  {
   "cell_type": "code",
   "execution_count": 7,
   "metadata": {
    "ExecuteTime": {
     "end_time": "2020-11-23T17:54:51.934413Z",
     "start_time": "2020-11-23T17:54:51.930439Z"
    },
    "code_folding": []
   },
   "outputs": [],
   "source": [
    "targets = list(y_train.columns[-3:])\n",
    "\n",
    "boolean_variables = ['departed from its rescue center',\n",
    "                     'intervention on public roads', 'differentiel hour']\n",
    "\n",
    "numerical_cols = ['longitude intervention', 'latitude intervention', 'delta status preceding selection-selection',\n",
    "                  'longitude before departure', 'latitude before departure', 'delta position gps previous departure-departure',\n",
    "                  'GPS tracks departure-presentation', 'OSRM estimated distance', 'OSRM estimated duration',\n",
    "                  'global_distance', 'OSRM distance vol'] + targets\n",
    "\n",
    "categorical_cols = ['alert reason category', 'alert reason', 'emergency vehicle', 'emergency vehicle category',\n",
    "                    'floor', 'location of the event_clean', 'emergency vehicle type', 'rescue center',\n",
    "                    'month', 'weekday', 'hour',\n",
    "                    'dayofyear', 'minuteofday']"
   ]
  },
  {
   "cell_type": "code",
   "execution_count": 8,
   "metadata": {
    "ExecuteTime": {
     "end_time": "2020-11-23T17:54:59.855808Z",
     "start_time": "2020-11-23T17:54:51.935744Z"
    },
    "code_folding": []
   },
   "outputs": [
    {
     "data": {
      "text/plain": [
       "39"
      ]
     },
     "execution_count": 8,
     "metadata": {},
     "output_type": "execute_result"
    }
   ],
   "source": [
    "# Preprocess location of the event to remove nans (takes 1.5 min)\n",
    "X_train['is_train'] = True\n",
    "X_test['is_train'] = False\n",
    "\n",
    "X_all = pd.concat([X_train, X_test])\n",
    "a = X_all['intervention'].value_counts()\n",
    "idx = (a[a > 1].index)\n",
    "\n",
    "X_all_interv = X_all[(X_all['intervention']).isin(idx)]\n",
    "#intervention_mapping_all = X_all_interv.groupby('intervention').max()['location of the event']\n",
    "intervention_mapping_all = X_all_interv.groupby('intervention').mean()[\n",
    "    'location of the event']\n",
    "\n",
    "dicta = intervention_mapping_all.fillna(-999).astype(int)\n",
    "\n",
    "X_all['location of the event_mod'] = X_all['intervention'].apply(\n",
    "    lambda x: dicta[x] if x in dicta else -999)\n",
    "X_all['location of the event_clean'] = X_all[['location of the event_mod',\n",
    "                                              'location of the event']].apply(lambda x: max(x[0], x[1]), axis=1).astype(int)\n",
    "\n",
    "X_all.drop(['location of the event_mod', 'location of the event'],\n",
    "           axis=1, inplace=True)\n",
    "\n",
    "X_train = X_all[X_all['is_train']]\n",
    "X_test = X_all[~X_all['is_train']]\n",
    "\n",
    "del X_all_interv\n",
    "del a\n",
    "del dicta\n",
    "gc.collect()"
   ]
  },
  {
   "cell_type": "markdown",
   "metadata": {},
   "source": [
    "# Feature Engineering"
   ]
  },
  {
   "cell_type": "code",
   "execution_count": 9,
   "metadata": {
    "ExecuteTime": {
     "end_time": "2020-11-23T17:54:59.866245Z",
     "start_time": "2020-11-23T17:54:59.858858Z"
    },
    "code_folding": []
   },
   "outputs": [],
   "source": [
    "def mean_encode(df, df_test, cols_to_encode, k_reg=10):\n",
    "    global_mean = y_train.mean()[-3:].values\n",
    "    global_std  = y_train.std() [-3:].values\n",
    "\n",
    "    features_list = list()\n",
    "    target_variables = ['delta selection-departure', \n",
    "                        'delta departure-presentation', \n",
    "                        'delta selection-presentation']\n",
    "    \n",
    "    for cat_col in cols_to_encode:\n",
    "        df[cat_col] = df[cat_col].fillna(-999)\n",
    "        coef = df[cat_col].value_counts().apply(lambda x: min(1, k_reg * x / X_train.shape[0]))\n",
    "        X_gp_mean = df.groupby(cat_col)[target_variables].mean()\n",
    "        X_gp_std  = df.groupby(cat_col)[target_variables].std()\n",
    "\n",
    "        for modal in df[cat_col].unique():\n",
    "            index_mean = X_gp_mean.index.get_level_values(0) == modal\n",
    "            index_std  = X_gp_std .index.get_level_values(0) == modal\n",
    "            \n",
    "            X_gp_mean[index_mean] = X_gp_mean[index_mean] * coef[modal] + \\\n",
    "                                    global_mean * (1 - coef[modal])\n",
    "\n",
    "            X_gp_std[index_std] = X_gp_std[index_std] * coef[modal] + \\\n",
    "                                  global_std * (1 - coef[modal])            \n",
    "\n",
    "        for i, target_var in enumerate(target_variables):\n",
    "            df[f'{cat_col}_ft{i}_me']      = df[cat_col]     .map(X_gp_mean[target_var])\n",
    "            df_test[f'{cat_col}_ft{i}_me'] = df_test[cat_col].map(X_gp_mean[target_var])\n",
    "            \n",
    "            df[f'{cat_col}_ft{i}_std']      = df[cat_col]     .map(X_gp_std[target_var])\n",
    "            df_test[f'{cat_col}_ft{i}_std'] = df_test[cat_col].map(X_gp_std[target_var])\n",
    "\n",
    "            features_list.extend([f'{cat_col}_ft{i}_me', \n",
    "                                  f'{cat_col}_ft{i}_std'])\n",
    "            \n",
    "\n",
    "    return df, df_test, features_list"
   ]
  },
  {
   "cell_type": "code",
   "execution_count": 10,
   "metadata": {
    "ExecuteTime": {
     "end_time": "2020-11-23T17:55:07.947319Z",
     "start_time": "2020-11-23T17:54:59.869205Z"
    }
   },
   "outputs": [],
   "source": [
    "# X_train, X_test, features_list = mean_encode(X_train, X_test, categorical_cols, k_reg=10)"
   ]
  },
  {
   "cell_type": "code",
   "execution_count": 11,
   "metadata": {
    "ExecuteTime": {
     "end_time": "2020-11-23T17:55:08.164267Z",
     "start_time": "2020-11-23T17:55:07.948775Z"
    }
   },
   "outputs": [],
   "source": [
    "def get_bbox_coords(X_train):\n",
    "    max_lat = X_train[[c for c in X_train.columns if ('latitude' in c)]].max().max() + 0.003\n",
    "    max_lon = X_train[[c for c in X_train.columns if ('longitude' in c)]].max().max() + 0.005\n",
    "\n",
    "    min_lat = X_train[[c for c in X_train.columns if ('latitude' in c)]].min().min() - 0.003\n",
    "    min_lon = X_train[[c for c in X_train.columns if ('longitude' in c)]].min().min() - 0.005\n",
    "\n",
    "    return (max_lat, min_lat, max_lon, min_lon)\n",
    "\n",
    "bbox_coords = get_bbox_coords(X_train)"
   ]
  },
  {
   "cell_type": "code",
   "execution_count": null,
   "metadata": {},
   "outputs": [],
   "source": []
  },
  {
   "cell_type": "markdown",
   "metadata": {},
   "source": [
    "# ML model"
   ]
  },
  {
   "cell_type": "code",
   "execution_count": 12,
   "metadata": {
    "ExecuteTime": {
     "end_time": "2020-11-23T17:55:24.113605Z",
     "start_time": "2020-11-23T17:55:24.110086Z"
    }
   },
   "outputs": [],
   "source": [
    "new_feats = list(X_train_add.columns)[-4:]"
   ]
  },
  {
   "cell_type": "code",
   "execution_count": 13,
   "metadata": {
    "ExecuteTime": {
     "end_time": "2020-11-23T17:55:28.48456Z",
     "start_time": "2020-11-23T17:55:28.482432Z"
    }
   },
   "outputs": [],
   "source": [
    "simple_feat_list = [\n",
    "    'OSRM estimated duration',\n",
    "    'OSRM estimated distance',\n",
    "    'delta status preceding selection-selection',\n",
    "    'global_distance',\n",
    "    #'OSRM distance vol',\n",
    "] + new_feats"
   ]
  },
  {
   "cell_type": "code",
   "execution_count": 14,
   "metadata": {
    "ExecuteTime": {
     "end_time": "2020-11-23T17:55:28.551718Z",
     "start_time": "2020-11-23T17:55:28.505882Z"
    }
   },
   "outputs": [
    {
     "data": {
      "text/html": [
       "<div>\n",
       "<style scoped>\n",
       "    .dataframe tbody tr th:only-of-type {\n",
       "        vertical-align: middle;\n",
       "    }\n",
       "\n",
       "    .dataframe tbody tr th {\n",
       "        vertical-align: top;\n",
       "    }\n",
       "\n",
       "    .dataframe thead th {\n",
       "        text-align: right;\n",
       "    }\n",
       "</style>\n",
       "<table border=\"1\" class=\"dataframe\">\n",
       "  <thead>\n",
       "    <tr style=\"text-align: right;\">\n",
       "      <th></th>\n",
       "      <th>emergency vehicle selection</th>\n",
       "      <th>intervention</th>\n",
       "      <th>alert reason category</th>\n",
       "      <th>alert reason</th>\n",
       "      <th>intervention on public roads</th>\n",
       "      <th>floor</th>\n",
       "      <th>longitude intervention</th>\n",
       "      <th>latitude intervention</th>\n",
       "      <th>emergency vehicle</th>\n",
       "      <th>emergency vehicle type</th>\n",
       "      <th>rescue center</th>\n",
       "      <th>delta status preceding selection-selection</th>\n",
       "      <th>departed from its rescue center</th>\n",
       "      <th>longitude before departure</th>\n",
       "      <th>latitude before departure</th>\n",
       "      <th>delta position gps previous departure-departure</th>\n",
       "      <th>GPS tracks datetime departure-presentation</th>\n",
       "      <th>OSRM estimated distance</th>\n",
       "      <th>OSRM estimated duration</th>\n",
       "      <th>delta selection-departure</th>\n",
       "      <th>delta departure-presentation</th>\n",
       "      <th>delta selection-presentation</th>\n",
       "      <th>OSRM estimate from last observed GPS position</th>\n",
       "      <th>OSRM estimated distance from last observed GPS position</th>\n",
       "      <th>OSRM estimated duration from last observed GPS position</th>\n",
       "      <th>time elapsed between selection and last observed GPS position</th>\n",
       "      <th>updated OSRM estimated duration</th>\n",
       "      <th>month</th>\n",
       "      <th>weekday</th>\n",
       "      <th>hour</th>\n",
       "      <th>dayofyear</th>\n",
       "      <th>minuteofday</th>\n",
       "      <th>true hour</th>\n",
       "      <th>differentiel hour</th>\n",
       "      <th>global_distance</th>\n",
       "      <th>OSRM response parsed</th>\n",
       "      <th>OSRM geometry decoded</th>\n",
       "      <th>OSRM distance vol</th>\n",
       "      <th>GPS split</th>\n",
       "      <th>GPS lat-long</th>\n",
       "      <th>GPS long</th>\n",
       "      <th>GPS lat</th>\n",
       "      <th>emergency vehicle category</th>\n",
       "      <th>is_train</th>\n",
       "      <th>location of the event_clean</th>\n",
       "    </tr>\n",
       "  </thead>\n",
       "  <tbody>\n",
       "    <tr>\n",
       "      <th>0</th>\n",
       "      <td>5105452</td>\n",
       "      <td>13264186</td>\n",
       "      <td>3</td>\n",
       "      <td>2162</td>\n",
       "      <td>0</td>\n",
       "      <td>0</td>\n",
       "      <td>2.284796</td>\n",
       "      <td>48.879669</td>\n",
       "      <td>4511</td>\n",
       "      <td>VSAV BSPP</td>\n",
       "      <td>2447</td>\n",
       "      <td>2027</td>\n",
       "      <td>1</td>\n",
       "      <td>2.288053</td>\n",
       "      <td>48.884698</td>\n",
       "      <td>NaN</td>\n",
       "      <td>2018-07-08 19:04:43;2018-07-08 19:05:55;2018-0...</td>\n",
       "      <td>952.5</td>\n",
       "      <td>105.8</td>\n",
       "      <td>86.0</td>\n",
       "      <td>324.0</td>\n",
       "      <td>410.0</td>\n",
       "      <td>{\"code\":\"Ok\",\"routes\":[{\"geometry\":\"g|iiH_p}LM...</td>\n",
       "      <td>663.2</td>\n",
       "      <td>88.8</td>\n",
       "      <td>394.01</td>\n",
       "      <td>482.81</td>\n",
       "      <td>7</td>\n",
       "      <td>6</td>\n",
       "      <td>19</td>\n",
       "      <td>189</td>\n",
       "      <td>1140</td>\n",
       "      <td>19.0</td>\n",
       "      <td>False</td>\n",
       "      <td>665</td>\n",
       "      <td>{'code': 'Ok', 'routes': [{'geometry': '}yjiH}...</td>\n",
       "      <td>[(0.228767, 4.888495), (0.228894, 4.888575), (...</td>\n",
       "      <td>113</td>\n",
       "      <td>[2.289000,48.885113, 2.288861,48.884998, 2.288...</td>\n",
       "      <td>[[2.289, 48.885113], [2.288861, 48.884998], [2...</td>\n",
       "      <td>[48.885113, 48.884998, 48.883335, 48.878582, 4...</td>\n",
       "      <td>[2.289, 2.288861, 2.288, 2.284444, 2.28625]</td>\n",
       "      <td>moyens_sante</td>\n",
       "      <td>True</td>\n",
       "      <td>148</td>\n",
       "    </tr>\n",
       "  </tbody>\n",
       "</table>\n",
       "</div>"
      ],
      "text/plain": [
       "   emergency vehicle selection  intervention  alert reason category  \\\n",
       "0                      5105452      13264186                      3   \n",
       "\n",
       "   alert reason  intervention on public roads  floor  longitude intervention  \\\n",
       "0          2162                             0      0                2.284796   \n",
       "\n",
       "   latitude intervention  emergency vehicle emergency vehicle type  \\\n",
       "0              48.879669               4511              VSAV BSPP   \n",
       "\n",
       "   rescue center  delta status preceding selection-selection  \\\n",
       "0           2447                                        2027   \n",
       "\n",
       "   departed from its rescue center  longitude before departure  \\\n",
       "0                                1                    2.288053   \n",
       "\n",
       "   latitude before departure  delta position gps previous departure-departure  \\\n",
       "0                  48.884698                                              NaN   \n",
       "\n",
       "          GPS tracks datetime departure-presentation  OSRM estimated distance  \\\n",
       "0  2018-07-08 19:04:43;2018-07-08 19:05:55;2018-0...                    952.5   \n",
       "\n",
       "   OSRM estimated duration  delta selection-departure  \\\n",
       "0                    105.8                       86.0   \n",
       "\n",
       "   delta departure-presentation  delta selection-presentation  \\\n",
       "0                         324.0                         410.0   \n",
       "\n",
       "       OSRM estimate from last observed GPS position  \\\n",
       "0  {\"code\":\"Ok\",\"routes\":[{\"geometry\":\"g|iiH_p}LM...   \n",
       "\n",
       "   OSRM estimated distance from last observed GPS position  \\\n",
       "0                                              663.2         \n",
       "\n",
       "   OSRM estimated duration from last observed GPS position  \\\n",
       "0                                               88.8         \n",
       "\n",
       "   time elapsed between selection and last observed GPS position  \\\n",
       "0                                             394.01               \n",
       "\n",
       "   updated OSRM estimated duration  month  weekday  hour  dayofyear  \\\n",
       "0                           482.81      7        6    19        189   \n",
       "\n",
       "   minuteofday  true hour  differentiel hour  global_distance  \\\n",
       "0         1140       19.0              False              665   \n",
       "\n",
       "                                OSRM response parsed  \\\n",
       "0  {'code': 'Ok', 'routes': [{'geometry': '}yjiH}...   \n",
       "\n",
       "                               OSRM geometry decoded  OSRM distance vol  \\\n",
       "0  [(0.228767, 4.888495), (0.228894, 4.888575), (...                113   \n",
       "\n",
       "                                           GPS split  \\\n",
       "0  [2.289000,48.885113, 2.288861,48.884998, 2.288...   \n",
       "\n",
       "                                        GPS lat-long  \\\n",
       "0  [[2.289, 48.885113], [2.288861, 48.884998], [2...   \n",
       "\n",
       "                                            GPS long  \\\n",
       "0  [48.885113, 48.884998, 48.883335, 48.878582, 4...   \n",
       "\n",
       "                                       GPS lat emergency vehicle category  \\\n",
       "0  [2.289, 2.288861, 2.288, 2.284444, 2.28625]               moyens_sante   \n",
       "\n",
       "   is_train  location of the event_clean  \n",
       "0      True                          148  "
      ]
     },
     "execution_count": 14,
     "metadata": {},
     "output_type": "execute_result"
    }
   ],
   "source": [
    "X_train.head(1)"
   ]
  },
  {
   "cell_type": "code",
   "execution_count": 16,
   "metadata": {},
   "outputs": [],
   "source": [
    "number_kf = 4\n",
    "n_est = 100\n",
    "lr = 0.1\n",
    "early_stopping = 15\n",
    "\n",
    "params = {\"n_estimators\": n_est,\n",
    "          \"verbosity\": 1,\n",
    "          \"learning_rate\": lr,\n",
    "          \"objective\": \"reg:squarederror\",\n",
    "          \"max_depth\": 6,\n",
    "          \"colsample_bytree\": 0.9,\n",
    "          \"tree_method\": 'hist',\n",
    "          \"min_child_weight\": 5,\n",
    "          \"gamma\": 5,\n",
    "          \"lambda\": 5,\n",
    "          \"alpha\": 5,\n",
    "          }"
   ]
  },
  {
   "cell_type": "code",
   "execution_count": 17,
   "metadata": {
    "ExecuteTime": {
     "end_time": "2020-11-23T17:59:55.962416Z",
     "start_time": "2020-11-23T17:55:28.579431Z"
    },
    "code_folding": [
     52
    ]
   },
   "outputs": [
    {
     "name": "stdout",
     "output_type": "stream",
     "text": [
      "Begin training\n",
      "––––––––––––––––––––––––––––––––––––––––––––––––––––––––\n",
      "1-fold\n",
      "\n",
      "164501 samples in train, 54834 samples in val\n",
      "37 features used\n",
      "\n",
      "[0]\tvalidation_0-rmse:139.06616\tvalidation_1-rmse:138.28912\n",
      "Multiple eval metrics have been passed: 'validation_1-rmse' will be used for early stopping.\n",
      "\n",
      "Will train until validation_1-rmse hasn't improved in 10 rounds.\n",
      "[15]\tvalidation_0-rmse:58.63065\tvalidation_1-rmse:59.31319\n",
      "[30]\tvalidation_0-rmse:50.04513\tvalidation_1-rmse:52.78141\n",
      "[45]\tvalidation_0-rmse:48.48567\tvalidation_1-rmse:52.18836\n",
      "[60]\tvalidation_0-rmse:47.77017\tvalidation_1-rmse:52.04617\n",
      "[75]\tvalidation_0-rmse:47.38331\tvalidation_1-rmse:51.93431\n",
      "[90]\tvalidation_0-rmse:46.99246\tvalidation_1-rmse:51.87641\n",
      "[99]\tvalidation_0-rmse:46.76070\tvalidation_1-rmse:51.87267\n",
      "\n",
      "– delta selection-departure 0.286\n",
      "[0]\tvalidation_0-rmse:388.45145\tvalidation_1-rmse:390.65387\n",
      "Multiple eval metrics have been passed: 'validation_1-rmse' will be used for early stopping.\n",
      "\n",
      "Will train until validation_1-rmse hasn't improved in 10 rounds.\n",
      "[15]\tvalidation_0-rmse:187.35982\tvalidation_1-rmse:197.65677\n",
      "[30]\tvalidation_0-rmse:164.57753\tvalidation_1-rmse:182.13568\n",
      "[45]\tvalidation_0-rmse:156.98537\tvalidation_1-rmse:180.84116\n",
      "[60]\tvalidation_0-rmse:149.64833\tvalidation_1-rmse:180.71834\n",
      "Stopping. Best iteration:\n",
      "[54]\tvalidation_0-rmse:152.21297\tvalidation_1-rmse:180.59825\n",
      "\n",
      "\n",
      "– delta departure-presentation 0.394\n",
      "– delta selection-presentation 0.426\n",
      "\n",
      "Aggregated score 0.369\n",
      "––––––––––––––––––––––––––––––––––––––––––––––––––––––––\n",
      "\n",
      "2-fold\n",
      "[0]\tvalidation_0-rmse:139.25644\tvalidation_1-rmse:137.39134\n",
      "Multiple eval metrics have been passed: 'validation_1-rmse' will be used for early stopping.\n",
      "\n",
      "Will train until validation_1-rmse hasn't improved in 10 rounds.\n",
      "[15]\tvalidation_0-rmse:58.24825\tvalidation_1-rmse:58.02005\n",
      "[30]\tvalidation_0-rmse:49.49882\tvalidation_1-rmse:51.49196\n",
      "[45]\tvalidation_0-rmse:47.80637\tvalidation_1-rmse:51.05053\n",
      "[60]\tvalidation_0-rmse:47.20209\tvalidation_1-rmse:50.93000\n",
      "[75]\tvalidation_0-rmse:46.80421\tvalidation_1-rmse:50.85961\n",
      "[90]\tvalidation_0-rmse:46.41375\tvalidation_1-rmse:50.77649\n",
      "[99]\tvalidation_0-rmse:46.24941\tvalidation_1-rmse:50.75255\n",
      "\n",
      "– delta selection-departure 0.285\n",
      "[0]\tvalidation_0-rmse:387.45905\tvalidation_1-rmse:393.22229\n",
      "Multiple eval metrics have been passed: 'validation_1-rmse' will be used for early stopping.\n",
      "\n",
      "Will train until validation_1-rmse hasn't improved in 10 rounds.\n",
      "[15]\tvalidation_0-rmse:185.51804\tvalidation_1-rmse:204.73624\n",
      "[30]\tvalidation_0-rmse:162.65201\tvalidation_1-rmse:190.81314\n",
      "[45]\tvalidation_0-rmse:155.42908\tvalidation_1-rmse:189.59776\n",
      "[60]\tvalidation_0-rmse:149.97201\tvalidation_1-rmse:189.09610\n",
      "[75]\tvalidation_0-rmse:146.82828\tvalidation_1-rmse:188.94731\n",
      "[90]\tvalidation_0-rmse:144.63806\tvalidation_1-rmse:188.88252\n",
      "[99]\tvalidation_0-rmse:143.61919\tvalidation_1-rmse:188.87665\n",
      "\n",
      "– delta departure-presentation 0.359\n",
      "– delta selection-presentation 0.389\n",
      "\n",
      "Aggregated score 0.344\n",
      "––––––––––––––––––––––––––––––––––––––––––––––––––––––––\n",
      "\n",
      "3-fold\n",
      "[0]\tvalidation_0-rmse:138.04968\tvalidation_1-rmse:141.52367\n",
      "Multiple eval metrics have been passed: 'validation_1-rmse' will be used for early stopping.\n",
      "\n",
      "Will train until validation_1-rmse hasn't improved in 10 rounds.\n",
      "[15]\tvalidation_0-rmse:57.65476\tvalidation_1-rmse:66.51916\n",
      "[30]\tvalidation_0-rmse:49.71983\tvalidation_1-rmse:60.56930\n",
      "[45]\tvalidation_0-rmse:48.34960\tvalidation_1-rmse:59.97873\n",
      "[60]\tvalidation_0-rmse:47.68451\tvalidation_1-rmse:59.86055\n",
      "[75]\tvalidation_0-rmse:47.27713\tvalidation_1-rmse:59.69371\n",
      "[90]\tvalidation_0-rmse:46.88581\tvalidation_1-rmse:59.60506\n",
      "[99]\tvalidation_0-rmse:46.69606\tvalidation_1-rmse:59.57560\n",
      "\n",
      "– delta selection-departure 0.247\n",
      "[0]\tvalidation_0-rmse:386.27277\tvalidation_1-rmse:396.27069\n",
      "Multiple eval metrics have been passed: 'validation_1-rmse' will be used for early stopping.\n",
      "\n",
      "Will train until validation_1-rmse hasn't improved in 10 rounds.\n",
      "[15]\tvalidation_0-rmse:181.15735\tvalidation_1-rmse:211.04967\n",
      "[30]\tvalidation_0-rmse:157.75748\tvalidation_1-rmse:197.38068\n",
      "[45]\tvalidation_0-rmse:151.11087\tvalidation_1-rmse:196.65205\n",
      "[60]\tvalidation_0-rmse:147.82002\tvalidation_1-rmse:196.35239\n",
      "[75]\tvalidation_0-rmse:145.60941\tvalidation_1-rmse:195.87245\n",
      "[90]\tvalidation_0-rmse:143.37660\tvalidation_1-rmse:195.74350\n",
      "[99]\tvalidation_0-rmse:142.00293\tvalidation_1-rmse:195.76125\n",
      "\n",
      "– delta departure-presentation 0.327\n",
      "– delta selection-presentation 0.357\n",
      "\n",
      "Aggregated score 0.31\n",
      "––––––––––––––––––––––––––––––––––––––––––––––––––––––––\n",
      "\n",
      "4-fold\n",
      "[0]\tvalidation_0-rmse:138.99866\tvalidation_1-rmse:138.58627\n",
      "Multiple eval metrics have been passed: 'validation_1-rmse' will be used for early stopping.\n",
      "\n",
      "Will train until validation_1-rmse hasn't improved in 10 rounds.\n",
      "[15]\tvalidation_0-rmse:58.86952\tvalidation_1-rmse:60.65679\n",
      "[30]\tvalidation_0-rmse:50.09353\tvalidation_1-rmse:54.74007\n",
      "[45]\tvalidation_0-rmse:48.65540\tvalidation_1-rmse:54.44829\n",
      "[60]\tvalidation_0-rmse:47.98298\tvalidation_1-rmse:54.46252\n",
      "[75]\tvalidation_0-rmse:47.43329\tvalidation_1-rmse:54.43312\n",
      "[90]\tvalidation_0-rmse:47.10969\tvalidation_1-rmse:54.37881\n",
      "[99]\tvalidation_0-rmse:46.92745\tvalidation_1-rmse:54.37100\n",
      "\n",
      "– delta selection-departure 0.251\n",
      "[0]\tvalidation_0-rmse:392.99512\tvalidation_1-rmse:376.02084\n",
      "Multiple eval metrics have been passed: 'validation_1-rmse' will be used for early stopping.\n",
      "\n",
      "Will train until validation_1-rmse hasn't improved in 10 rounds.\n",
      "[15]\tvalidation_0-rmse:189.45299\tvalidation_1-rmse:170.53575\n",
      "[30]\tvalidation_0-rmse:165.43874\tvalidation_1-rmse:153.92036\n",
      "[45]\tvalidation_0-rmse:157.31613\tvalidation_1-rmse:152.87215\n",
      "[60]\tvalidation_0-rmse:152.26421\tvalidation_1-rmse:152.77870\n",
      "Stopping. Best iteration:\n",
      "[56]\tvalidation_0-rmse:153.29811\tvalidation_1-rmse:152.60698\n",
      "\n",
      "\n",
      "– delta departure-presentation 0.449\n",
      "– delta selection-presentation 0.471\n",
      "\n",
      "Aggregated score 0.39\n",
      "––––––––––––––––––––––––––––––––––––––––––––––––––––––––\n",
      "\n",
      "End training\n",
      "\n"
     ]
    },
    {
     "data": {
      "text/html": [
       "<div>\n",
       "<style scoped>\n",
       "    .dataframe tbody tr th:only-of-type {\n",
       "        vertical-align: middle;\n",
       "    }\n",
       "\n",
       "    .dataframe tbody tr th {\n",
       "        vertical-align: top;\n",
       "    }\n",
       "\n",
       "    .dataframe thead th {\n",
       "        text-align: right;\n",
       "    }\n",
       "</style>\n",
       "<table border=\"1\" class=\"dataframe\">\n",
       "  <thead>\n",
       "    <tr style=\"text-align: right;\">\n",
       "      <th></th>\n",
       "      <th>1-fold</th>\n",
       "      <th>2-fold</th>\n",
       "      <th>3-fold</th>\n",
       "      <th>4-fold</th>\n",
       "      <th>global_score</th>\n",
       "    </tr>\n",
       "  </thead>\n",
       "  <tbody>\n",
       "    <tr>\n",
       "      <th>delta selection-departure</th>\n",
       "      <td>0.286</td>\n",
       "      <td>0.285</td>\n",
       "      <td>0.247</td>\n",
       "      <td>0.251</td>\n",
       "      <td>0.267</td>\n",
       "    </tr>\n",
       "    <tr>\n",
       "      <th>delta departure-presentation</th>\n",
       "      <td>0.394</td>\n",
       "      <td>0.359</td>\n",
       "      <td>0.327</td>\n",
       "      <td>0.449</td>\n",
       "      <td>0.382</td>\n",
       "    </tr>\n",
       "    <tr>\n",
       "      <th>delta selection-presentation</th>\n",
       "      <td>0.426</td>\n",
       "      <td>0.389</td>\n",
       "      <td>0.357</td>\n",
       "      <td>0.471</td>\n",
       "      <td>0.411</td>\n",
       "    </tr>\n",
       "    <tr>\n",
       "      <th>mean over targets</th>\n",
       "      <td>0.369</td>\n",
       "      <td>0.344</td>\n",
       "      <td>0.310</td>\n",
       "      <td>0.390</td>\n",
       "      <td>0.353</td>\n",
       "    </tr>\n",
       "  </tbody>\n",
       "</table>\n",
       "</div>"
      ],
      "text/plain": [
       "                              1-fold  2-fold  3-fold  4-fold  global_score\n",
       "delta selection-departure      0.286   0.285   0.247   0.251         0.267\n",
       "delta departure-presentation   0.394   0.359   0.327   0.449         0.382\n",
       "delta selection-presentation   0.426   0.389   0.357   0.471         0.411\n",
       "mean over targets              0.369   0.344   0.310   0.390         0.353"
      ]
     },
     "execution_count": 17,
     "metadata": {},
     "output_type": "execute_result"
    }
   ],
   "source": [
    "y_pred = dict()\n",
    "scores = defaultdict(dict)\n",
    "xgbs   = dict()\n",
    "y_pred_test = dict()\n",
    "y_vals  = dict()\n",
    "\n",
    "predict_test = False\n",
    "    \n",
    "kf = KFold(n_splits=number_kf, shuffle=True, random_state=42)\n",
    "\n",
    "print(f'Begin training')\n",
    "print('––––––––––––––––––––––––––––––––––––––––––––––––––––––––')\n",
    "for j, (train_index, test_index) in enumerate(kf.split(X_train)):\n",
    "    print(f'{j+1}-fold')\n",
    "\n",
    "    data_entr, data_val = X_train.iloc[train_index], X_train.iloc[test_index]\n",
    "    \n",
    "    data_entr, X_test, features_list = mean_encode(data_entr, X_test, categorical_cols, k_reg=10)\n",
    "    data_entr, data_val, features_list = mean_encode(data_entr, data_val, categorical_cols, k_reg=10)\n",
    "    \n",
    "\n",
    "    for i, target_column in enumerate(targets):\n",
    "        relevant_ft = [f for f in features_list if f'ft{i}' in f]\n",
    "\n",
    "        X_entr = data_entr[simple_feat_list + relevant_ft + boolean_variables]\n",
    "        y_entr = data_entr[target_column]\n",
    "\n",
    "        X_val = data_val[simple_feat_list + relevant_ft + boolean_variables]\n",
    "        y_val = data_val[target_column]        \n",
    "\n",
    "        y_vals[target_column] = y_val\n",
    "        \n",
    "        X_test_data = X_test[simple_feat_list + relevant_ft + boolean_variables]\n",
    "\n",
    "        if i + j == 0:\n",
    "            print(f'\\n{X_entr.shape[0]} samples in train, {X_val.shape[0]} samples in val')\n",
    "            print(f'{X_entr.shape[1]} features used\\n')\n",
    "\n",
    "        if target_column == 'delta selection-presentation':\n",
    "            y_pred[target_column] = y_pred['delta selection-departure'] + y_pred['delta departure-presentation']\n",
    "            scores[f'{j+1}-fold'][target_column] = round(r2_score(y_val, y_pred[target_column]), 3)\n",
    "            print(f'– {target_column}', scores[f'{j+1}-fold'][target_column])\n",
    "\n",
    "        else:            \n",
    "            xgbs[target_column] = xgboost.XGBRegressor(**params)\n",
    "\n",
    "            xgbs[target_column].fit(X_entr, \n",
    "                                    y_entr, \n",
    "                                    eval_set=[(X_entr, y_entr),\n",
    "                                              (X_val, y_val)],\n",
    "                                    verbose=early_stopping,\n",
    "                                    early_stopping_rounds=n_est // 10,\n",
    "                                   )\n",
    "\n",
    "            y_pred[target_column] = xgbs[target_column].predict(X_val).astype(int)\n",
    "            scores[f'{j+1}-fold'][target_column] = round(r2_score(y_val, y_pred[target_column]), 3)\n",
    "            print(f'\\n– {target_column}', scores[f'{j + 1}-fold'][target_column])\n",
    "            \n",
    "            y_pred_test[\"_\".join([target_column, str(j)])] = xgbs[target_column].predict(X_test_data).astype(int)\n",
    "\n",
    "\n",
    "    print('\\nAggregated score', round(np.mean(list(scores[f'{j + 1}-fold'].values())), 3))\n",
    "    print('––––––––––––––––––––––––––––––––––––––––––––––––––––––––\\n')\n",
    "print('End training\\n')\n",
    "\n",
    "df_scores = pd.DataFrame(scores)\n",
    "df_scores['global_score'] = df_scores.mean(axis=1).round(3)\n",
    "df_scores = df_scores.append(df_scores.mean().round(3), ignore_index=True)\n",
    "df_scores.index = targets + ['mean over targets']\n",
    "\n",
    "df_scores.head()\n",
    "\n"
   ]
  },
  {
   "cell_type": "code",
   "execution_count": 19,
   "metadata": {},
   "outputs": [
    {
     "data": {
      "image/png": "[encoded data removed]",
      "text/plain": [
       "<Figure size 720x1152 with 1 Axes>"
      ]
     },
     "metadata": {
      "needs_background": "light"
     },
     "output_type": "display_data"
    }
   ],
   "source": [
    "fig, ax = plt.subplots(figsize=(10, 16))\n",
    "plot_importance(xgbs[\"delta departure-presentation\"],\n",
    "                max_num_features=30, ax=ax)  # top 10 most important features\n",
    "plt.show()"
   ]
  },
  {
   "cell_type": "code",
   "execution_count": 20,
   "metadata": {
    "ExecuteTime": {
     "end_time": "2020-11-23T17:59:55.974377Z",
     "start_time": "2020-11-23T17:59:55.964372Z"
    }
   },
   "outputs": [
    {
     "data": {
      "text/html": [
       "<div>\n",
       "<style scoped>\n",
       "    .dataframe tbody tr th:only-of-type {\n",
       "        vertical-align: middle;\n",
       "    }\n",
       "\n",
       "    .dataframe tbody tr th {\n",
       "        vertical-align: top;\n",
       "    }\n",
       "\n",
       "    .dataframe thead th {\n",
       "        text-align: right;\n",
       "    }\n",
       "</style>\n",
       "<table border=\"1\" class=\"dataframe\">\n",
       "  <thead>\n",
       "    <tr style=\"text-align: right;\">\n",
       "      <th></th>\n",
       "      <th>1-fold</th>\n",
       "      <th>2-fold</th>\n",
       "      <th>3-fold</th>\n",
       "      <th>4-fold</th>\n",
       "      <th>global_score</th>\n",
       "    </tr>\n",
       "  </thead>\n",
       "  <tbody>\n",
       "    <tr>\n",
       "      <th>delta selection-departure</th>\n",
       "      <td>0.286</td>\n",
       "      <td>0.285</td>\n",
       "      <td>0.247</td>\n",
       "      <td>0.251</td>\n",
       "      <td>0.267</td>\n",
       "    </tr>\n",
       "    <tr>\n",
       "      <th>delta departure-presentation</th>\n",
       "      <td>0.394</td>\n",
       "      <td>0.359</td>\n",
       "      <td>0.327</td>\n",
       "      <td>0.449</td>\n",
       "      <td>0.382</td>\n",
       "    </tr>\n",
       "    <tr>\n",
       "      <th>delta selection-presentation</th>\n",
       "      <td>0.426</td>\n",
       "      <td>0.389</td>\n",
       "      <td>0.357</td>\n",
       "      <td>0.471</td>\n",
       "      <td>0.411</td>\n",
       "    </tr>\n",
       "    <tr>\n",
       "      <th>mean over targets</th>\n",
       "      <td>0.369</td>\n",
       "      <td>0.344</td>\n",
       "      <td>0.310</td>\n",
       "      <td>0.390</td>\n",
       "      <td>0.353</td>\n",
       "    </tr>\n",
       "  </tbody>\n",
       "</table>\n",
       "</div>"
      ],
      "text/plain": [
       "                              1-fold  2-fold  3-fold  4-fold  global_score\n",
       "delta selection-departure      0.286   0.285   0.247   0.251         0.267\n",
       "delta departure-presentation   0.394   0.359   0.327   0.449         0.382\n",
       "delta selection-presentation   0.426   0.389   0.357   0.471         0.411\n",
       "mean over targets              0.369   0.344   0.310   0.390         0.353"
      ]
     },
     "execution_count": 20,
     "metadata": {},
     "output_type": "execute_result"
    }
   ],
   "source": [
    "df_scores = pd.DataFrame(scores)\n",
    "df_scores['global_score'] = df_scores.mean(axis=1).round(3)\n",
    "df_scores = df_scores.append(df_scores.mean().round(3), ignore_index=True)\n",
    "df_scores.index = targets + ['mean over targets']\n",
    "df_scores"
   ]
  },
  {
   "cell_type": "code",
   "execution_count": 21,
   "metadata": {
    "ExecuteTime": {
     "end_time": "2020-11-23T17:59:56.125679Z",
     "start_time": "2020-11-23T17:59:55.975951Z"
    }
   },
   "outputs": [
    {
     "data": {
      "text/plain": [
       "(0.0, 2000.0)"
      ]
     },
     "execution_count": 21,
     "metadata": {},
     "output_type": "execute_result"
    },
    {
     "data": {
      "image/png": "[encoded data removed]",
      "text/plain": [
       "<Figure size 432x288 with 1 Axes>"
      ]
     },
     "metadata": {
      "needs_background": "light"
     },
     "output_type": "display_data"
    }
   ],
   "source": [
    "t_col = targets[1]\n",
    "\n",
    "plt.scatter(y_vals[t_col][::10], y_pred[t_col][::10], s=7)\n",
    "\n",
    "plt.plot(range(10000), 'black')\n",
    "plt.xlabel('Actual values')\n",
    "plt.ylabel('Predicted values')\n",
    "plt.xlim(0, 2000)\n",
    "plt.ylim(0, 2000)"
   ]
  },
  {
   "cell_type": "markdown",
   "metadata": {},
   "source": [
    "# Prediction"
   ]
  },
  {
   "cell_type": "code",
   "execution_count": 2,
   "metadata": {
    "ExecuteTime": {
     "end_time": "2021-01-20T18:11:37.423772Z",
     "start_time": "2021-01-20T18:11:37.421774Z"
    }
   },
   "outputs": [],
   "source": [
    "preds = list(y_pred_test.keys())\n",
    "selection_cols = list(filter(lambda x: \"delta selection-departure\" in x, preds))\n",
    "departure_cols = list(filter(lambda x: \"delta departure-presentation\" in x, preds))"
   ]
  },
  {
   "cell_type": "code",
   "execution_count": null,
   "metadata": {},
   "outputs": [],
   "source": [
    "selection_values = np.array([y_pred_test[d] for d in selection_cols]).mean(axis=0)\n",
    "departure_values = np.array([y_pred_test[d] for d in departure_cols]).mean(axis=0)\n",
    "selection_presentation_values = selection_values + departure_values"
   ]
  },
  {
   "cell_type": "code",
   "execution_count": null,
   "metadata": {},
   "outputs": [],
   "source": [
    "from sklearn.preprocessing import PolynomialFeatures\n",
    "from sklearn.linear_model import LinearRegression\n",
    "\n",
    "# Data reading\n",
    "x_train = pd.read_csv(BASE_PATH + 'x_train.csv', sep=',')\n",
    "y_train = pd.read_csv(BASE_PATH + 'y_train.csv', sep=',')\n",
    "x_test = pd.read_csv(BASE_PATH + 'x_test.csv', sep=',')\n",
    "print('loaded')\n",
    "\n",
    "x_train_transit = x_train[['OSRM estimated distance',\n",
    "                           'intervention on public roads', 'floor']]\n",
    "y_train_transit = y_train[['delta departure-presentation']]\n",
    "x_test_transit = x_test[['OSRM estimated distance',\n",
    "                         'intervention on public roads', 'floor']]\n",
    "\n",
    "# Create a predictive model for the 'delta departure-presentation'\n",
    "# based on 'OSRM estimated distance', 'intervention on public roads' and 'floor'\n",
    "polynomial_features = PolynomialFeatures(degree=3)\n",
    "x_train_transit_poly = polynomial_features.fit_transform(x_train_transit)\n",
    "model = LinearRegression()\n",
    "model.fit(x_train_transit_poly, y_train_transit)\n",
    "\n",
    "# Prediction of the 'delta selection-presentation'\n",
    "x_test_transit_poly = polynomial_features.fit_transform(x_test_transit)\n",
    "y_selection_presentation_predicted = y_train['delta selection-departure'].median(\n",
    ") + model.predict(x_test_transit_poly)\n",
    "\n",
    "# Create a submission file\n",
    "submission = pd.concat([pd.DataFrame(x_test[['emergency vehicle selection']].values),\n",
    "                        pd.DataFrame(\n",
    "                            np.full((len(x_test), 1), y_train['delta selection-departure'].median())),\n",
    "                        pd.DataFrame(model.predict(x_test_transit_poly)),\n",
    "                        pd.DataFrame(y_selection_presentation_predicted)],\n",
    "                       axis=1)\n",
    "\n",
    "submission.columns = list(y_train.columns.values)\n",
    "\n",
    "submission.set_index('emergency vehicle selection', inplace=True)"
   ]
  },
  {
   "cell_type": "code",
   "execution_count": null,
   "metadata": {},
   "outputs": [],
   "source": [
    "submission.head()"
   ]
  },
  {
   "cell_type": "code",
   "execution_count": null,
   "metadata": {},
   "outputs": [],
   "source": [
    "submission[targets[0]] = selection_values\n",
    "submission[targets[1]] = departure_values\n",
    "submission[targets[2]] = selection_presentation_values\n",
    "\n",
    "k = np.random.randint(0, 1_000)\n",
    "submission.to_csv(f\"predictions_{k}.csv\")"
   ]
  },
  {
   "cell_type": "code",
   "execution_count": null,
   "metadata": {},
   "outputs": [],
   "source": [
    "submission.head(5)"
   ]
  },
  {
   "cell_type": "code",
   "execution_count": null,
   "metadata": {},
   "outputs": [],
   "source": [
    "print('–' * 30)\n",
    "for t_col in targets:\n",
    "    print(t_col, '\\n')\n",
    "    train_mean = y_train[t_col].mean()\n",
    "    pred_mean = submission[t_col].mean()\n",
    "    print(f'Train mean {train_mean:.3f}')\n",
    "    print(f'Pred  mean {pred_mean:.3f}', '\\n')\n",
    "    assert np.isclose(train_mean, pred_mean, atol=2)\n",
    "\n",
    "    train_std = y_train[t_col].std()\n",
    "    pred_std = submission[t_col].std()\n",
    "    print(f'Train std {train_std:.3f}')\n",
    "    print(f'Pred  std {pred_std:.3f}',\n",
    "          '\\n––––––––––––––––––––––––––––\\n')"
   ]
  }
 ],
 "metadata": {
  "kernelspec": {
   "display_name": "Python 3",
   "language": "python",
   "name": "python3"
  },
  "language_info": {
   "codemirror_mode": {
    "name": "ipython",
    "version": 3
   },
   "file_extension": ".py",
   "mimetype": "text/x-python",
   "name": "python",
   "nbconvert_exporter": "python",
   "pygments_lexer": "ipython3",
   "version": "3.8.3"
  },
  "toc": {
   "base_numbering": 1,
   "nav_menu": {},
   "number_sections": true,
   "sideBar": true,
   "skip_h1_title": false,
   "title_cell": "Table of Contents",
   "title_sidebar": "Contents",
   "toc_cell": false,
   "toc_position": {},
   "toc_section_display": true,
   "toc_window_display": false
  }
 },
 "nbformat": 4,
 "nbformat_minor": 4
}
